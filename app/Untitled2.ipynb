{
 "cells": [
  {
   "cell_type": "code",
   "execution_count": 1,
   "metadata": {},
   "outputs": [],
   "source": [
    "girlsday_member = ['민아', '혜리', '유라', '소진']"
   ]
  },
  {
   "cell_type": "code",
   "execution_count": 2,
   "metadata": {},
   "outputs": [
    {
     "name": "stdout",
     "output_type": "stream",
     "text": [
      "- 민아\n",
      "- 혜리\n",
      "- 유라\n",
      "- 소진\n"
     ]
    }
   ],
   "source": [
    "for i in girlsday_member:\n",
    "    print('- {}'.format(i))\n",
    "    "
   ]
  },
  {
   "cell_type": "code",
   "execution_count": null,
   "metadata": {},
   "outputs": [],
   "source": [
    "fruit_dict = {\n",
    "  'red':'apple',\n",
    "  'yellow':'banana',\n",
    "  'green':'melon',\n",
    "}\n",
    "\n",
    "\n",
    "def fruit_name(fruit_dict):\n",
    "    return f'{[index]} {fruit_dict[0]}: {fruit_dict[1]}'"
   ]
  },
  {
   "cell_type": "code",
   "execution_count": null,
   "metadata": {},
   "outputs": [],
   "source": [
    "fruit_name(fruit_dict)"
   ]
  },
  {
   "cell_type": "code",
   "execution_count": null,
   "metadata": {},
   "outputs": [],
   "source": [
    "# a=b가 먼저 나온 뒤 a=[1,2,3]을 넣으면 b=[1,2,3]이 나온다.\n",
    "# 이때 a.copy(b)를 한 뒤 a.append(4)를 하면 a=[1,2,3,4], b=[1,2,3]\n",
    "\n",
    "# copy를 하는 상태에서는 a와 b가 같은 메모리를 가리키지만, \n",
    "# a에 변화가 생기면 a와 b는 같은 메모리가 아닌 다른 메모리를 가리킨다.\n"
   ]
  },
  {
   "cell_type": "code",
   "execution_count": null,
   "metadata": {},
   "outputs": [],
   "source": [
    "#4번\n",
    "list1 = []\n",
    "for i in range(1, 31):\n",
    "    list1.append(i)\n",
    "print(list1[2:31:4])"
   ]
  },
  {
   "cell_type": "code",
   "execution_count": null,
   "metadata": {},
   "outputs": [],
   "source": [
    "#5번\n",
    "# 'obj['key']'와 'obj.get('key')'의 결과값은 동일하게 가져오지만, 'obj['key']'의 경우에는\n",
    "# 존재하지 않는 키 값을 가져오려할 경우에 오류를 발생시키지만 'obj.get('key')'의 경우에는 None을 리턴한다."
   ]
  },
  {
   "cell_type": "code",
   "execution_count": null,
   "metadata": {},
   "outputs": [],
   "source": [
    "#6번\n",
    "# unpacking은 패킹된 변수에서 여러개의 값을 가져오는 것을 의미한다.\n"
   ]
  },
  {
   "cell_type": "code",
   "execution_count": null,
   "metadata": {},
   "outputs": [],
   "source": [
    "#7번\n",
    "# 위치인자는 매개변수의 순서대로 이자를 전달하여 사용하는 것\n",
    "def student(name, age, gender):\n",
    "    return {'name': name, 'age': age, 'gender': gender}\n",
    "student('jihye', 25, 'female')\n",
    "\n",
    "# 키워드 인자는 매개변수의 이름을 지정하여 인자로 전달해 사용하는 것\n",
    "student(age=25, name='jihye', gender='female')"
   ]
  },
  {
   "cell_type": "code",
   "execution_count": null,
   "metadata": {},
   "outputs": [],
   "source": [
    "#8번\n",
    "# 클래스는 하나의 틀, 똑같은 무언가를 계속해서 만들어 낼 수 있는 도면이라면, \n",
    "# 인스턴스는 클래스를 통해 만들어진 피조물을 의미한다. 그래서 특정 클래스의 형태를 가진 인스턴스라고 표현한다.\n",
    "\n",
    "# 클래스의 생성자 함수 이름: init 초기화메서드\n",
    "\n",
    "# 클래스가 정의되었는 지 착고, 클래스형 객체를 메로리에 생성한 뒤, 초기화 메서드를 호출한다.\n",
    "\n",
    "# self는 클래스의 메서드를 사용할 때 어떤 객체가 해당 메서드를 사용하고 있는 지 알 수 있도록 하기 위해 존재한다."
   ]
  },
  {
   "cell_type": "code",
   "execution_count": null,
   "metadata": {},
   "outputs": [],
   "source": [
    "# 9번\n",
    "# 어떤 언어들은 외부에서 접근할 수 없는 private객체 속성을 지원하는데 이 경우 객체에서 해당 속성을 읽고 쓰기 위해\n",
    "# getter, setter를 사용한다. 파이썬에서는 해당 기능을 property를 사용해 간단히 구현한다.\n",
    "\n",
    "@property\n",
    "def shop_type(self):\n",
    "    # shop_type은 최대한으로 외부에서 조작할 수 없도록 한다. \n",
    "    return self.__shop_type\n",
    "\n",
    "@shop_type.setter\n",
    "# setter 프로퍼티를 명시하지 않으면, 읽기 전용이 되어 외부에서 조작을 할 수 없게 한다.\n",
    "def shop_type(self, new_shop_type):\n",
    "    self.__shop_type = new_shop_type\n",
    "    print(f'새 상점유형 ({self._shop_type}) 적용')"
   ]
  },
  {
   "cell_type": "code",
   "execution_count": null,
   "metadata": {},
   "outputs": [],
   "source": [
    "# 10번\n",
    "class User:\n",
    "    def init(self, name):\n",
    "        self.name = name\n",
    "        \n",
    "\n",
    "class Student:\n",
    "    def __init__(self, name, age):\n",
    "        super().__init__(self, name)\n",
    "        self.age = age       "
   ]
  },
  {
   "cell_type": "code",
   "execution_count": null,
   "metadata": {},
   "outputs": [],
   "source": [
    "# 11번\n",
    "import os\n",
    "import requests\n",
    "from bs4 import BeautifulSoup\n",
    "\n",
    "file_path = 'data/test.html'\n",
    "url = 'http://www.leagueoflegends.co.kr/?m=news&cate=notice'\n",
    "\n",
    "\n",
    "if os.path.exists(url):\n",
    "    html = open('file_path', 'rt').read\n",
    "else:\n",
    "    response = requests.get(url)\n",
    "    html = response.text\n",
    "    open(file_path, 'wt').write(html)\n",
    "    \n",
    "    \n",
    "soup = BeautifulSoup(html, 'lxml')\n",
    "table = soup.select_one('table.request-ist info-type02')\n",
    "tr_list = table.select('tr')\n",
    "for tr in tr_list:\n",
    "    if tr.get('class'):\n",
    "        continue\n",
    "    else:\n",
    "        text = tr.select_one('td:nth-of-type(1) > a').get_text(strip=Ture)"
   ]
  },
  {
   "cell_type": "code",
   "execution_count": 13,
   "metadata": {},
   "outputs": [],
   "source": [
    "# 12번\n",
    "import os\n",
    "import requests\n",
    "from bs4 import BeautifulSoup\n",
    "\n",
    "file_path = 'data/test.html'\n",
    "url = 'http://www.leagueoflegends.co.kr/?m=news&cate=notice'\n",
    "\n",
    "if os.path.exists(url):\n",
    "    html = open('file_path', 'rt').read\n",
    "else:\n",
    "    response = requests.get(url)\n",
    "    html = response.text\n",
    "    open(file_path, 'wt').write(html)\n",
    "\n",
    "\n",
    "class Notice:\n",
    "    def __init__(self, title, date, view):\n",
    "        self.title = title\n",
    "        self.date = date\n",
    "        self.view = view\n",
    "\n",
    "    def set_info(self):\n",
    "        soup = BeautifulSoup(html, 'lxml')\n",
    "        table = soup.select_one('table.request-ist info-type02')\n",
    "        tr_list = table.select('tr')\n",
    "        for tr in tr_list:\n",
    "            if tr.get('class'):\n",
    "                continue\n",
    "\n",
    "            title = tr.select_one('td:nth-of-type(1) > a').get_text(strip=True)\n",
    "            date = tr.select_one('td:nth-of-type(2)').get_text(strip=True)\n",
    "            view = tr.select_one('tr:nth-of-type(3)').get_text(strip=True)\n",
    "            notice_list = list()\n",
    "            notice_list.append(title)\n",
    "            notice_list.append(date)\n",
    "            notice_list.append(view)"
   ]
  },
  {
   "cell_type": "code",
   "execution_count": 14,
   "metadata": {},
   "outputs": [],
   "source": [
    "# 13번\n"
   ]
  },
  {
   "cell_type": "code",
   "execution_count": null,
   "metadata": {},
   "outputs": [],
   "source": []
  }
 ],
 "metadata": {
  "kernelspec": {
   "display_name": "Python 3",
   "language": "python",
   "name": "python3"
  },
  "language_info": {
   "codemirror_mode": {
    "name": "ipython",
    "version": 3
   },
   "file_extension": ".py",
   "mimetype": "text/x-python",
   "name": "python",
   "nbconvert_exporter": "python",
   "pygments_lexer": "ipython3",
   "version": "3.6.5"
  }
 },
 "nbformat": 4,
 "nbformat_minor": 2
}
